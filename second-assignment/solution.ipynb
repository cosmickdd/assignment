{
 "cells": [
  {
   "cell_type": "markdown",
   "id": "be806081",
   "metadata": {},
   "source": [
    "# Solution: Ridge Regression and Active Learning\n",
    "\n",
    "This notebook reproduces the solution for the assignment: closed-form ridge regression and an active learning selection of the first 10 measurement indices. It uses the provided data files: `X_train-2.csv`, `y_train-1.csv`, and `X_test.csv`."
   ]
  },
  {
   "cell_type": "code",
   "execution_count": null,
   "id": "e09a40ca",
   "metadata": {},
   "outputs": [],
   "source": [
    "import numpy as np\n",
    "from pathlib import Path\n",
    "\n",
    "# Load data (assumes notebook is in the assignment root)\n",
    "data_dir = Path('.')\n",
    "X_train = np.genfromtxt(data_dir / 'X_train-2.csv', delimiter=',')\n",
    "y_train = np.genfromtxt(data_dir / 'y_train-1.csv')\n",
    "X_test = np.genfromtxt(data_dir / 'X_test.csv', delimiter=',')\n",
    "\n",
    "print('Loaded shapes:', X_train.shape, y_train.shape, X_test.shape)"
   ]
  },
  {
   "cell_type": "markdown",
   "id": "f3df7e2c",
   "metadata": {},
   "source": [
    "## Ridge regression (closed-form)"
   ]
  },
  {
   "cell_type": "code",
   "execution_count": null,
   "id": "99614c6b",
   "metadata": {},
   "outputs": [],
   "source": [
    "def ridge_weights(X, y, lam):\n",
    "    d = X.shape[1]\n",
    "    A = X.T @ X + lam * np.eye(d)\n",
    "    b = X.T @ y\n",
    "    return np.linalg.solve(A, b)\n",
    "\n",
    "lam = 5.0\n",
    "w = ridge_weights(X_train, y_train, lam)\n",
    "print('Ridge weights (first 10):', np.round(w[:10], 6))"
   ]
  },
  {
   "cell_type": "markdown",
   "id": "f32ba794",
   "metadata": {},
   "source": [
    "## Active learning selection (first 10 indices)"
   ]
  },
  {
   "cell_type": "code",
   "execution_count": null,
   "id": "bf8decfc",
   "metadata": {},
   "outputs": [],
   "source": [
    "def update_posterior(lambda0, sigma2, X_batch, y_batch, old_xx, old_xy):\n",
    "    old_xx = old_xx + X_batch.T @ X_batch\n",
    "    old_xy = old_xy + X_batch.T @ y_batch\n",
    "    new_var_inv = lambda0 * np.eye(old_xx.shape[0]) + (1.0 / sigma2) * old_xx\n",
    "    new_var = np.linalg.inv(new_var_inv)\n",
    "    sigma_temp = lambda0 * sigma2 * np.eye(old_xx.shape[0]) + old_xx\n",
    "    new_mean = np.linalg.solve(sigma_temp, old_xy)\n",
    "    return new_var, new_mean, old_xx, old_xy\n",
    "\n",
    "def active_learning(lambda0, sigma2, X_train, y_train, X_pool, k=10):\n",
    "    d = X_train.shape[1]\n",
    "    old_xx = X_train.T @ X_train\n",
    "    old_xy = X_train.T @ y_train\n",
    "    var_inv = lambda0 * np.eye(d) + (1.0 / sigma2) * old_xx\n",
    "    new_var = np.linalg.inv(var_inv)\n",
    "    new_mean = np.linalg.solve(lambda0 * sigma2 * np.eye(d) + old_xx, old_xy)\n",
    "    w_rr = new_mean\n",
    "    pool = X_pool.copy()\n",
    "    indices = list(range(pool.shape[0]))\n",
    "    selected = []\n",
    "    for _ in range(k):\n",
    "        variances = np.einsum('ij,jk,ik->i', pool, new_var, pool)\n",
    "        idx = int(np.argmax(variances))\n",
    "        selected_idx = indices[idx]\n",
    "        selected.append(selected_idx + 1)\n",
    "        x_sel = pool[idx:idx+1, :]\n",
    "        y_sel = (x_sel @ w_rr).ravel()\n",
    "        new_var, new_mean, old_xx, old_xy = update_posterior(lambda0, sigma2, x_sel, y_sel, old_xx, old_xy)\n",
    "        w_rr = new_mean\n",
    "        pool = np.delete(pool, idx, axis=0)\n",
    "        indices.pop(idx)\n",
    "    return w_rr, selected\n",
    "\n",
    "w_rr, selected = active_learning(5.0, 2.0, X_train, y_train, X_test, k=10)\n",
    "print('Selected indices (1-based):', selected)\n",
    "print('Posterior mean weights (first 10):', np.round(w_rr[:10], 6))"
   ]
  }
 ],
 "metadata": {
  "language_info": {
   "name": "python"
  }
 },
 "nbformat": 4,
 "nbformat_minor": 5
}
